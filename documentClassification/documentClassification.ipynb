{
 "cells": [
  {
   "cell_type": "code",
   "execution_count": 1,
   "id": "f95d3c28",
   "metadata": {},
   "outputs": [],
   "source": [
    "# Task\n",
    "# https://www.hackerrank.com/challenges/document-classification/problem\n",
    "\n",
    "# Useful links\n",
    "# https://scikit-learn.org/stable/auto_examples/text/plot_document_classification_20newsgroups.html#sphx-glr-auto-examples-text-plot-document-classification-20newsgroups-py\n",
    "# https://www.docsumo.com/blog/document-classification\n",
    "\n",
    "# !/bin/python3\n",
    "\n",
    "import math\n",
    "import os\n",
    "import random\n",
    "import re\n",
    "import sys\n",
    "import numpy as np\n",
    "import pandas as pd\n",
    "import matplotlib.pyplot as plt"
   ]
  },
  {
   "cell_type": "code",
   "execution_count": 92,
   "id": "37bc94c8",
   "metadata": {},
   "outputs": [],
   "source": [
    "# Settings\n",
    "nrFeatures = 150 # If the text is too short it won't have enough features, maybe can set rest to 0?"
   ]
  },
  {
   "cell_type": "code",
   "execution_count": 93,
   "id": "74916d10",
   "metadata": {},
   "outputs": [],
   "source": [
    "with open(\"trainingdata.txt\", \"r\") as file1:\n",
    "    content = file1.readlines()\n",
    "\n",
    "N = content[0] # Training data size\n",
    "del content[0] # Remove from read data   "
   ]
  },
  {
   "cell_type": "code",
   "execution_count": 94,
   "id": "5e2b0d4d",
   "metadata": {
    "scrolled": true
   },
   "outputs": [],
   "source": [
    "# !pip uninstall scikit-learn"
   ]
  },
  {
   "cell_type": "code",
   "execution_count": 95,
   "id": "cbc136d6",
   "metadata": {},
   "outputs": [],
   "source": [
    "# !pip install scikit-learn==1.2.2 \n",
    "# 1.3 version throws an error when trying to oversample\n",
    "# !pip install nltk"
   ]
  },
  {
   "cell_type": "code",
   "execution_count": 96,
   "id": "3edef5a7",
   "metadata": {},
   "outputs": [
    {
     "name": "stderr",
     "output_type": "stream",
     "text": [
      "[nltk_data] Downloading package punkt to\n",
      "[nltk_data]     C:\\Users\\00350974\\AppData\\Roaming\\nltk_data...\n",
      "[nltk_data]   Package punkt is already up-to-date!\n",
      "[nltk_data] Downloading package wordnet to\n",
      "[nltk_data]     C:\\Users\\00350974\\AppData\\Roaming\\nltk_data...\n",
      "[nltk_data]   Package wordnet is already up-to-date!\n"
     ]
    },
    {
     "data": {
      "text/plain": [
       "True"
      ]
     },
     "execution_count": 96,
     "metadata": {},
     "output_type": "execute_result"
    }
   ],
   "source": [
    "import nltk # natural language processing\n",
    "nltk.download('punkt')\n",
    "nltk.download('wordnet')"
   ]
  },
  {
   "cell_type": "code",
   "execution_count": 97,
   "id": "2c926bb2",
   "metadata": {},
   "outputs": [],
   "source": [
    "# !pip install imblearn"
   ]
  },
  {
   "cell_type": "code",
   "execution_count": 98,
   "id": "b4714b05",
   "metadata": {
    "scrolled": true
   },
   "outputs": [],
   "source": [
    "# Move the data into X (feature matrix) and y (class array)\n",
    "\n",
    "from nltk.tokenize import sent_tokenize #word_tokenize or sent_tokenize (best for longer texts)\n",
    "\n",
    "from nltk.stem import PorterStemmer\n",
    "stemmer = PorterStemmer() # Reduces the words to their base form\n",
    "\n",
    "from nltk.stem import WordNetLemmatizer\n",
    "lemmatizer = WordNetLemmatizer() # Reduces inflection from words - similar to stemming\n",
    "y = []\n",
    "X = []\n",
    "for line in content:\n",
    "    y.append(int(line[0]))\n",
    "    processed_line = sent_tokenize(line[2:]) # Tokenize the words. Other preprocesses include stop word removal, POS tagging and chunking\n",
    "#     processed_line = [stemmer.stem(i) for i in processed_line] # Takes long time, use if needed\n",
    "    processed_line = [lemmatizer.lemmatize(i) for i in processed_line] \n",
    "    X.append(processed_line[0])\n",
    "\n",
    "df = pd.DataFrame(zip(X, y),\n",
    "           columns =['Text', 'Class'])\n"
   ]
  },
  {
   "cell_type": "code",
   "execution_count": 99,
   "id": "46efefc3",
   "metadata": {},
   "outputs": [
    {
     "name": "stdout",
     "output_type": "stream",
     "text": [
      "2840\n",
      "1596\n",
      "251\n",
      "108\n",
      "41\n",
      "253\n",
      "190\n",
      "206\n"
     ]
    }
   ],
   "source": [
    "print(len(df[df[\"Class\"] == 1])) \n",
    "print(len(df[df[\"Class\"] == 2]))\n",
    "print(len(df[df[\"Class\"] == 3])) \n",
    "print(len(df[df[\"Class\"] == 4]))\n",
    "print(len(df[df[\"Class\"] == 5])) \n",
    "print(len(df[df[\"Class\"] == 6]))\n",
    "print(len(df[df[\"Class\"] == 7])) \n",
    "print(len(df[df[\"Class\"] == 8]))\n"
   ]
  },
  {
   "cell_type": "code",
   "execution_count": 100,
   "id": "e2947151",
   "metadata": {},
   "outputs": [
    {
     "data": {
      "text/html": [
       "<div>\n",
       "<style scoped>\n",
       "    .dataframe tbody tr th:only-of-type {\n",
       "        vertical-align: middle;\n",
       "    }\n",
       "\n",
       "    .dataframe tbody tr th {\n",
       "        vertical-align: top;\n",
       "    }\n",
       "\n",
       "    .dataframe thead th {\n",
       "        text-align: right;\n",
       "    }\n",
       "</style>\n",
       "<table border=\"1\" class=\"dataframe\">\n",
       "  <thead>\n",
       "    <tr style=\"text-align: right;\">\n",
       "      <th></th>\n",
       "      <th>Text</th>\n",
       "      <th>Class</th>\n",
       "    </tr>\n",
       "  </thead>\n",
       "  <tbody>\n",
       "    <tr>\n",
       "      <th>0</th>\n",
       "      <td>champion products ch approves stock split cham...</td>\n",
       "      <td>1</td>\n",
       "    </tr>\n",
       "    <tr>\n",
       "      <th>1</th>\n",
       "      <td>computer terminal systems cpml completes sale ...</td>\n",
       "      <td>2</td>\n",
       "    </tr>\n",
       "    <tr>\n",
       "      <th>2</th>\n",
       "      <td>cobanco inc cbco year net shr cts vs dlrs net ...</td>\n",
       "      <td>1</td>\n",
       "    </tr>\n",
       "    <tr>\n",
       "      <th>3</th>\n",
       "      <td>am international inc am nd qtr jan oper shr lo...</td>\n",
       "      <td>1</td>\n",
       "    </tr>\n",
       "    <tr>\n",
       "      <th>4</th>\n",
       "      <td>brown forman inc bfd th qtr net shr one dlr vs...</td>\n",
       "      <td>1</td>\n",
       "    </tr>\n",
       "  </tbody>\n",
       "</table>\n",
       "</div>"
      ],
      "text/plain": [
       "                                                Text  Class\n",
       "0  champion products ch approves stock split cham...      1\n",
       "1  computer terminal systems cpml completes sale ...      2\n",
       "2  cobanco inc cbco year net shr cts vs dlrs net ...      1\n",
       "3  am international inc am nd qtr jan oper shr lo...      1\n",
       "4  brown forman inc bfd th qtr net shr one dlr vs...      1"
      ]
     },
     "execution_count": 100,
     "metadata": {},
     "output_type": "execute_result"
    }
   ],
   "source": [
    "df.head()"
   ]
  },
  {
   "cell_type": "code",
   "execution_count": 101,
   "id": "ab53c2c8",
   "metadata": {},
   "outputs": [],
   "source": [
    "# # Visualize the words with a word cloud\n",
    "# # !pip install WordCloud\n",
    "# import wordcloud\n",
    "# wordcloud_pos = wordcloud(width=200,\n",
    "#                          height=500,\n",
    "#                          max_font_size=150).generate(print(df[df['Class'] == 1]))\n",
    "\n",
    "# plt.figure(figsize=(15, 10))\n",
    "# plt.imshow(interpolation = \"bilinear\")\n",
    "# plt.axis(\"off\")\n",
    "# plt.title(f\"Most common words associated with non-toxic comment\", size=20)\n",
    "# plt.show()"
   ]
  },
  {
   "cell_type": "code",
   "execution_count": 102,
   "id": "677968c6",
   "metadata": {},
   "outputs": [],
   "source": [
    "from sklearn.preprocessing import MinMaxScaler, Normalizer \n",
    "from sklearn.feature_extraction.text import TfidfVectorizer # term frequency\n",
    "from sklearn.model_selection import train_test_split\n",
    "from sklearn.naive_bayes import MultinomialNB\n",
    "import warnings\n",
    "warnings.filterwarnings('ignore')\n"
   ]
  },
  {
   "cell_type": "code",
   "execution_count": 103,
   "id": "8caf629b",
   "metadata": {
    "scrolled": true
   },
   "outputs": [],
   "source": [
    "# X_train, X_test, y_train, y_test = train_test_split(df[\"Text\"], df[\"Class\"], test_size=0.10)\n",
    "X_train, X_test, y_train, y_test = train_test_split(df[\"Text\"], df[\"Class\"], test_size=0.10)\n",
    "\n",
    "# https://realpython.com/python-keras-text-classification/\n",
    "\n",
    "# - Bag Of Words -\n",
    "# Create features from the data\n",
    "tfidf = TfidfVectorizer(lowercase=False, max_features=nrFeatures, stop_words =\"english\")  # term frequency\n",
    "X_train_tfidf = tfidf.fit_transform(X_train).toarray()\n",
    "X_test_tfidf = tfidf.transform(X_test).toarray()\n",
    "\n",
    "# Normalize the vectors - probably not needed\n",
    "norm_TFIDF = Normalizer(copy=False)\n",
    "X_norm_train_tfidf = norm_TFIDF.fit_transform(X_train_tfidf)\n",
    "X_norm_test_tfidf = norm_TFIDF.transform(X_test_tfidf)"
   ]
  },
  {
   "cell_type": "code",
   "execution_count": 104,
   "id": "e72f6805",
   "metadata": {},
   "outputs": [],
   "source": [
    "# from sklearn.preprocessing import StandardScaler\n",
    "from imblearn.over_sampling import RandomOverSampler\n",
    "\n",
    "# Oversample the data to improve classification for classes with less items\n",
    "def oversample_dataset(X, y):\n",
    "    ros = RandomOverSampler()\n",
    "    X_os,y_os = ros.fit_resample(X,y) # Take more of the class with fewer items until they have the same amount\n",
    "\n",
    "    # Below is what we want to do - have to reshape y first to 2D\n",
    "#     data = np.hstack((X, y)) # horisontal stack\n",
    "    data = np.hstack((X_os, np.reshape(y_os, (-1, 1)))) # horisontal stack. (-1, 1) gets evaluated as (len(y), 1)\n",
    "\n",
    "    return data, X_os, y_os"
   ]
  },
  {
   "cell_type": "code",
   "execution_count": 105,
   "id": "8cc3ce6d",
   "metadata": {
    "scrolled": true
   },
   "outputs": [],
   "source": [
    "# Over sample the data to improve the training. Before, there were 100 times more data of class 1 than class 5\n",
    "y_train = y_train.to_numpy()\n",
    "y_test = y_test.to_numpy()\n",
    "_, X_norm_train_tfidf_os, y_train_os = oversample_dataset(X_norm_train_tfidf,y_train)\n",
    "_, X_norm_test_tfidf_os, y_test_os = oversample_dataset(X_norm_test_tfidf,y_test)"
   ]
  },
  {
   "cell_type": "code",
   "execution_count": 106,
   "id": "d2c944bf",
   "metadata": {},
   "outputs": [
    {
     "name": "stdout",
     "output_type": "stream",
     "text": [
      "2840\n",
      "2840\n",
      "20352\n"
     ]
    }
   ],
   "source": [
    "print(len(y_os[y_os==1]))\n",
    "print(len(y_os[y_os==8]))\n",
    "print(len(X_norm_train_tfidf_os))"
   ]
  },
  {
   "cell_type": "code",
   "execution_count": 109,
   "id": "db5ae448",
   "metadata": {},
   "outputs": [
    {
     "data": {
      "text/html": [
       "<div>\n",
       "<style scoped>\n",
       "    .dataframe tbody tr th:only-of-type {\n",
       "        vertical-align: middle;\n",
       "    }\n",
       "\n",
       "    .dataframe tbody tr th {\n",
       "        vertical-align: top;\n",
       "    }\n",
       "\n",
       "    .dataframe thead th {\n",
       "        text-align: right;\n",
       "    }\n",
       "</style>\n",
       "<table border=\"1\" class=\"dataframe\">\n",
       "  <thead>\n",
       "    <tr style=\"text-align: right;\">\n",
       "      <th></th>\n",
       "      <th>Text</th>\n",
       "      <th>Class</th>\n",
       "    </tr>\n",
       "  </thead>\n",
       "  <tbody>\n",
       "    <tr>\n",
       "      <th>0</th>\n",
       "      <td>champion products ch approves stock split cham...</td>\n",
       "      <td>1</td>\n",
       "    </tr>\n",
       "    <tr>\n",
       "      <th>1</th>\n",
       "      <td>computer terminal systems cpml completes sale ...</td>\n",
       "      <td>2</td>\n",
       "    </tr>\n",
       "    <tr>\n",
       "      <th>2</th>\n",
       "      <td>cobanco inc cbco year net shr cts vs dlrs net ...</td>\n",
       "      <td>1</td>\n",
       "    </tr>\n",
       "    <tr>\n",
       "      <th>3</th>\n",
       "      <td>am international inc am nd qtr jan oper shr lo...</td>\n",
       "      <td>1</td>\n",
       "    </tr>\n",
       "    <tr>\n",
       "      <th>4</th>\n",
       "      <td>brown forman inc bfd th qtr net shr one dlr vs...</td>\n",
       "      <td>1</td>\n",
       "    </tr>\n",
       "  </tbody>\n",
       "</table>\n",
       "</div>"
      ],
      "text/plain": [
       "                                                Text  Class\n",
       "0  champion products ch approves stock split cham...      1\n",
       "1  computer terminal systems cpml completes sale ...      2\n",
       "2  cobanco inc cbco year net shr cts vs dlrs net ...      1\n",
       "3  am international inc am nd qtr jan oper shr lo...      1\n",
       "4  brown forman inc bfd th qtr net shr one dlr vs...      1"
      ]
     },
     "execution_count": 109,
     "metadata": {},
     "output_type": "execute_result"
    }
   ],
   "source": [
    "df.head()"
   ]
  },
  {
   "cell_type": "code",
   "execution_count": 134,
   "id": "2d947c9d",
   "metadata": {},
   "outputs": [],
   "source": [
    "from sklearn.neighbors import KNeighborsClassifier\n",
    "from sklearn.metrics import classification_report\n",
    "from sklearn.metrics import confusion_matrix, ConfusionMatrixDisplay, accuracy_score, precision_score, recall_score, f1_score, roc_auc_score, roc_curve, precision_recall_curve\n",
    "\n",
    "knn_model = KNeighborsClassifier(n_neighbors=5)\n",
    "knn_model.fit(X_norm_train_tfidf_os, y_train_os)\n",
    "y_pred = knn_model.predict(X_norm_test_tfidf_os)"
   ]
  },
  {
   "cell_type": "code",
   "execution_count": 135,
   "id": "3f16ea23",
   "metadata": {},
   "outputs": [
    {
     "name": "stdout",
     "output_type": "stream",
     "text": [
      "              precision    recall  f1-score   support\n",
      "\n",
      "           1       0.99      0.96      0.97       296\n",
      "           2       0.71      0.91      0.80       296\n",
      "           3       0.60      0.84      0.70       296\n",
      "           4       0.78      0.52      0.63       296\n",
      "           5       0.63      0.21      0.32       296\n",
      "           6       0.85      0.89      0.87       296\n",
      "           7       0.70      0.92      0.79       296\n",
      "           8       0.80      0.80      0.80       296\n",
      "\n",
      "    accuracy                           0.76      2368\n",
      "   macro avg       0.76      0.76      0.73      2368\n",
      "weighted avg       0.76      0.76      0.73      2368\n",
      "\n"
     ]
    },
    {
     "data": {
      "image/png": "[encoded data removed]",
      "text/plain": [
       "<Figure size 640x480 with 2 Axes>"
      ]
     },
     "metadata": {},
     "output_type": "display_data"
    }
   ],
   "source": [
    "print(classification_report(y_test_os, y_pred))\n",
    "cm = confusion_matrix(y_test_os, y_pred)\n",
    "disp = ConfusionMatrixDisplay(confusion_matrix=cm)\n",
    "disp.plot()\n",
    "plt.show()"
   ]
  },
  {
   "cell_type": "code",
   "execution_count": 136,
   "id": "e0fb6c72",
   "metadata": {
    "scrolled": false
   },
   "outputs": [],
   "source": [
    "from sklearn.naive_bayes import GaussianNB\n",
    "nb_model = GaussianNB()\n",
    "nb_model.fit(X_norm_train_tfidf_os, y_train_os)\n",
    "y_pred = nb_model.predict(X_norm_test_tfidf_os)"
   ]
  },
  {
   "cell_type": "code",
   "execution_count": 137,
   "id": "eefdb8bd",
   "metadata": {},
   "outputs": [
    {
     "name": "stdout",
     "output_type": "stream",
     "text": [
      "              precision    recall  f1-score   support\n",
      "\n",
      "           1       0.88      0.94      0.91       296\n",
      "           2       0.83      0.80      0.81       296\n",
      "           3       0.57      0.45      0.50       296\n",
      "           4       0.57      0.64      0.60       296\n",
      "           5       0.58      0.81      0.68       296\n",
      "           6       0.74      0.74      0.74       296\n",
      "           7       0.60      0.61      0.61       296\n",
      "           8       0.68      0.45      0.54       296\n",
      "\n",
      "    accuracy                           0.68      2368\n",
      "   macro avg       0.68      0.68      0.67      2368\n",
      "weighted avg       0.68      0.68      0.67      2368\n",
      "\n"
     ]
    },
    {
     "data": {
      "image/png": "[encoded data removed]",
      "text/plain": [
       "<Figure size 640x480 with 2 Axes>"
      ]
     },
     "metadata": {},
     "output_type": "display_data"
    }
   ],
   "source": [
    "print(classification_report(y_test_os, y_pred))\n",
    "cm = confusion_matrix(y_test_os, y_pred)\n",
    "disp = ConfusionMatrixDisplay(confusion_matrix=cm)\n",
    "disp.plot()\n",
    "plt.show()"
   ]
  },
  {
   "cell_type": "code",
   "execution_count": 138,
   "id": "4353fba1",
   "metadata": {},
   "outputs": [],
   "source": [
    "from sklearn.svm import SVC # Support vector classifier\n",
    "svm_model = SVC()\n",
    "svm_model.fit(X_norm_train_tfidf_os, y_train_os)\n",
    "y_pred = svm_model.predict(X_norm_test_tfidf_os)"
   ]
  },
  {
   "cell_type": "code",
   "execution_count": 139,
   "id": "741df891",
   "metadata": {},
   "outputs": [
    {
     "name": "stdout",
     "output_type": "stream",
     "text": [
      "              precision    recall  f1-score   support\n",
      "\n",
      "           1       0.81      0.98      0.89       296\n",
      "           2       0.69      0.97      0.80       296\n",
      "           3       0.79      0.93      0.85       296\n",
      "           4       0.49      0.64      0.56       296\n",
      "           5       0.00      0.00      0.00       296\n",
      "           6       0.86      0.91      0.89       296\n",
      "           7       0.87      0.92      0.89       296\n",
      "           8       0.95      0.75      0.84       296\n",
      "\n",
      "    accuracy                           0.76      2368\n",
      "   macro avg       0.68      0.76      0.72      2368\n",
      "weighted avg       0.68      0.76      0.72      2368\n",
      "\n"
     ]
    },
    {
     "data": {
      "image/png": "[encoded data removed]",
      "text/plain": [
       "<Figure size 640x480 with 2 Axes>"
      ]
     },
     "metadata": {},
     "output_type": "display_data"
    }
   ],
   "source": [
    "print(classification_report(y_test_os, y_pred))\n",
    "cm = confusion_matrix(y_test_os, y_pred)\n",
    "disp = ConfusionMatrixDisplay(confusion_matrix=cm)\n",
    "disp.plot()\n",
    "plt.show()"
   ]
  },
  {
   "cell_type": "code",
   "execution_count": 140,
   "id": "a773710b",
   "metadata": {},
   "outputs": [],
   "source": [
    "ml_model = svm_model"
   ]
  },
  {
   "cell_type": "markdown",
   "id": "5a36f996",
   "metadata": {},
   "source": [
    "# CLASSIFY AN INPUT\n",
    "\n",
    "**Manually paste from training data**"
   ]
  },
  {
   "cell_type": "code",
   "execution_count": 120,
   "id": "1418ed0e",
   "metadata": {
    "scrolled": false
   },
   "outputs": [
    {
     "name": "stdout",
     "output_type": "stream",
     "text": [
      "london grain freights wheat ria luna mt norrkoping and djuron ec mexico dlrs option loading uddevalla at cents less continental reference new york grain freights of march brokers say the charterer of the saturn from us gulf to japan is reported to be nordstrom and thulin while the antigone is reported to have been arranged from tilbury to the black sea by soviet charterers reuter \n",
      "Class is:  2\n"
     ]
    }
   ],
   "source": [
    "\n",
    "warnings.filterwarnings('ignore')\n",
    "# Read input from stdio\n",
    "#     input = sys.stdin.readline\n",
    "nrClassifications = 1 #int(input()) # first line says how many more lines there are\n",
    "\n",
    "for i in range(nrClassifications):\n",
    "    line = input()\n",
    "\n",
    "    stemmer = PorterStemmer() # Reduces the words to their base form\n",
    "    lemmatizer = WordNetLemmatizer() # Reduces inflection from words - similar to stemming\n",
    "\n",
    "    processed_line = sent_tokenize(line) # Tokenize the words. Other preprocesses include stop word removal, POS tagging and chunking\n",
    "#     processed_line = [stemmer.stem(i) for i in processed_line] # Takes long time, use if needed\n",
    "    processed_line = [lemmatizer.lemmatize(i) for i in processed_line] \n",
    "#         X.append(processed_line[0])\n",
    "    X = processed_line\n",
    "\n",
    "    # Create features from the data\n",
    "    tfidf_in = TfidfVectorizer(lowercase=False, max_features=nrFeatures, stop_words =\"english\")  # term frequency, can remove stop words here\n",
    "    X_ft_tfidf = tfidf_in.fit_transform(X).toarray()\n",
    "\n",
    "    # Normalize the vectors\n",
    "    norm_TFIDF = Normalizer(copy=False)\n",
    "    X_ft_norm_tfidf = norm_TFIDF.fit_transform(X_ft_tfidf)\n",
    "\n",
    "    # Create a vector of zeros with the same number of features as the model's training data\n",
    "    X_norm_input_tfidf = np.zeros([1, nrFeatures])\n",
    "\n",
    "    feature_names_input = tfidf_in.get_feature_names_out()\n",
    "    matched_feature_names = []\n",
    "\n",
    "    # Check whether each feature in the input is in the trained features list\n",
    "    for i in range(len(feature_names_input)):\n",
    "        feat_input = feature_names_input[i]\n",
    "\n",
    "        for j in range(len(feature_names)):\n",
    "            feat = feature_names[j]\n",
    "\n",
    "            if feat_input == feat:\n",
    "                X_norm_input_tfidf[0,j] = X_ft_norm_tfidf[0,i]\n",
    "                matched_feature_names.append(feat_input)\n",
    "                continue   # Skip to next \n",
    "\n",
    "    print(\"Class is: \", ml_model.predict(X_norm_input_tfidf)[0])\n",
    "\n"
   ]
  },
  {
   "cell_type": "code",
   "execution_count": 117,
   "id": "2e245ccb",
   "metadata": {},
   "outputs": [
    {
     "name": "stdout",
     "output_type": "stream",
     "text": [
      "[[0.         0.         0.         0.         0.         0.\n",
      "  0.         0.         0.         0.         0.         0.\n",
      "  0.         0.         0.         0.         0.         0.\n",
      "  0.         0.         0.         0.         0.         0.\n",
      "  0.         0.         0.14586499 0.         0.         0.\n",
      "  0.         0.         0.         0.         0.         0.\n",
      "  0.         0.         0.         0.         0.         0.\n",
      "  0.14586499 0.         0.         0.14586499 0.         0.\n",
      "  0.         0.         0.         0.         0.14586499 0.\n",
      "  0.         0.         0.         0.         0.         0.\n",
      "  0.         0.         0.         0.         0.         0.\n",
      "  0.         0.         0.         0.         0.         0.\n",
      "  0.14586499 0.         0.         0.         0.         0.\n",
      "  0.         0.         0.         0.         0.         0.\n",
      "  0.         0.         0.         0.         0.         0.\n",
      "  0.         0.         0.         0.         0.         0.\n",
      "  0.         0.         0.         0.         0.         0.\n",
      "  0.         0.         0.         0.         0.         0.\n",
      "  0.         0.         0.         0.         0.         0.\n",
      "  0.         0.         0.         0.         0.         0.\n",
      "  0.         0.         0.         0.         0.         0.\n",
      "  0.         0.         0.         0.         0.         0.\n",
      "  0.         0.         0.         0.         0.         0.\n",
      "  0.         0.         0.         0.         0.         0.\n",
      "  0.         0.         0.         0.         0.         0.        ]]\n",
      "[[0.14586499 0.14586499 0.14586499 0.14586499 0.14586499 0.14586499\n",
      "  0.14586499 0.14586499 0.14586499 0.14586499 0.14586499 0.29172998\n",
      "  0.29172998 0.14586499 0.14586499 0.14586499 0.14586499 0.14586499\n",
      "  0.14586499 0.14586499 0.14586499 0.14586499 0.14586499 0.14586499\n",
      "  0.14586499 0.14586499 0.29172998 0.14586499 0.14586499 0.14586499\n",
      "  0.14586499 0.14586499 0.14586499 0.14586499 0.14586499 0.14586499\n",
      "  0.14586499 0.14586499]]\n",
      "['dlrs', 'japan', 'march', 'new', 'reuter']\n"
     ]
    }
   ],
   "source": [
    "print(X_norm_input_tfidf)\n",
    "print(X_ft_norm_tfidf)\n",
    "print(matched_feature_names)"
   ]
  },
  {
   "cell_type": "code",
   "execution_count": null,
   "id": "e979dae7",
   "metadata": {},
   "outputs": [],
   "source": []
  }
 ],
 "metadata": {
  "kernelspec": {
   "display_name": "Python 3 (ipykernel)",
   "language": "python",
   "name": "python3"
  },
  "language_info": {
   "codemirror_mode": {
    "name": "ipython",
    "version": 3
   },
   "file_extension": ".py",
   "mimetype": "text/x-python",
   "name": "python",
   "nbconvert_exporter": "python",
   "pygments_lexer": "ipython3",
   "version": "3.11.4"
  }
 },
 "nbformat": 4,
 "nbformat_minor": 5
}
