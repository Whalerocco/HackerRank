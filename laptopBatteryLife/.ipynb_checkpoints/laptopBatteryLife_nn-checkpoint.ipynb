{
 "cells": [
  {
   "cell_type": "code",
   "execution_count": 1,
   "metadata": {},
   "outputs": [],
   "source": [
    "# https://www.hackerrank.com/challenges/battery/problem\n",
    "\n",
    "# !/bin/python3\n",
    "\n",
    "import math\n",
    "import os\n",
    "import random\n",
    "import re\n",
    "import sys\n",
    "import numpy as np\n",
    "import pandas as pd\n",
    "import matplotlib.pyplot as plt\n"
   ]
  },
  {
   "cell_type": "code",
   "execution_count": 2,
   "metadata": {},
   "outputs": [],
   "source": [
    "df = pd.read_csv(\"input.txt\", sep=\",\")\n",
    "labels = [\"ChargeTime\", \"BatteryTime\"]\n",
    "df.columns = labels"
   ]
  },
  {
   "cell_type": "code",
   "execution_count": 3,
   "metadata": {},
   "outputs": [
    {
     "data": {
      "text/html": [
       "<div>\n",
       "<style scoped>\n",
       "    .dataframe tbody tr th:only-of-type {\n",
       "        vertical-align: middle;\n",
       "    }\n",
       "\n",
       "    .dataframe tbody tr th {\n",
       "        vertical-align: top;\n",
       "    }\n",
       "\n",
       "    .dataframe thead th {\n",
       "        text-align: right;\n",
       "    }\n",
       "</style>\n",
       "<table border=\"1\" class=\"dataframe\">\n",
       "  <thead>\n",
       "    <tr style=\"text-align: right;\">\n",
       "      <th></th>\n",
       "      <th>ChargeTime</th>\n",
       "      <th>BatteryTime</th>\n",
       "    </tr>\n",
       "  </thead>\n",
       "  <tbody>\n",
       "    <tr>\n",
       "      <th>0</th>\n",
       "      <td>7.14</td>\n",
       "      <td>8.00</td>\n",
       "    </tr>\n",
       "    <tr>\n",
       "      <th>1</th>\n",
       "      <td>2.72</td>\n",
       "      <td>5.44</td>\n",
       "    </tr>\n",
       "    <tr>\n",
       "      <th>2</th>\n",
       "      <td>3.87</td>\n",
       "      <td>7.74</td>\n",
       "    </tr>\n",
       "    <tr>\n",
       "      <th>3</th>\n",
       "      <td>1.90</td>\n",
       "      <td>3.80</td>\n",
       "    </tr>\n",
       "    <tr>\n",
       "      <th>4</th>\n",
       "      <td>7.82</td>\n",
       "      <td>8.00</td>\n",
       "    </tr>\n",
       "  </tbody>\n",
       "</table>\n",
       "</div>"
      ],
      "text/plain": [
       "   ChargeTime  BatteryTime\n",
       "0        7.14         8.00\n",
       "1        2.72         5.44\n",
       "2        3.87         7.74\n",
       "3        1.90         3.80\n",
       "4        7.82         8.00"
      ]
     },
     "execution_count": 3,
     "metadata": {},
     "output_type": "execute_result"
    }
   ],
   "source": [
    "df.head()"
   ]
  },
  {
   "cell_type": "code",
   "execution_count": 4,
   "metadata": {},
   "outputs": [
    {
     "data": {
      "text/plain": [
       "(99, 2)"
      ]
     },
     "execution_count": 4,
     "metadata": {},
     "output_type": "execute_result"
    }
   ],
   "source": [
    "df.shape"
   ]
  },
  {
   "cell_type": "code",
   "execution_count": 5,
   "metadata": {
    "scrolled": false
   },
   "outputs": [
    {
     "data": {
      "image/png": "[encoded data removed]",
      "text/plain": [
       "<Figure size 640x480 with 1 Axes>"
      ]
     },
     "metadata": {},
     "output_type": "display_data"
    }
   ],
   "source": [
    "plt.scatter(df[\"ChargeTime\"], df[\"BatteryTime\"])\n",
    "plt.title(\"Battery Time\")\n",
    "plt.ylabel(\"BatteryTime\")\n",
    "plt.xlabel(\"ChargeTime\")\n",
    "plt.show()"
   ]
  },
  {
   "cell_type": "code",
   "execution_count": 6,
   "metadata": {},
   "outputs": [],
   "source": [
    "import tensorflow as tf\n",
    "import copy"
   ]
  },
  {
   "cell_type": "code",
   "execution_count": null,
   "metadata": {
    "scrolled": true
   },
   "outputs": [],
   "source": []
  },
  {
   "cell_type": "code",
   "execution_count": 7,
   "metadata": {},
   "outputs": [],
   "source": [
    "train, valid, test = np.split(df.sample(frac=1), [int(0.98*len(df)), int(0.99*len(df))])"
   ]
  },
  {
   "cell_type": "code",
   "execution_count": 8,
   "metadata": {},
   "outputs": [
    {
     "name": "stdout",
     "output_type": "stream",
     "text": [
      "    ChargeTime  BatteryTime\n",
      "12        0.14         0.28\n",
      "2         3.87         7.74\n",
      "91        5.77         8.00\n",
      "43        4.15         8.00\n",
      "18        0.00         0.00\n",
      "..         ...          ...\n",
      "77        5.96         8.00\n",
      "75        0.13         0.26\n",
      "76        1.44         2.88\n",
      "40        5.94         8.00\n",
      "86        3.99         7.98\n",
      "\n",
      "[97 rows x 2 columns]\n"
     ]
    }
   ],
   "source": [
    "print(train)"
   ]
  },
  {
   "cell_type": "code",
   "execution_count": 9,
   "metadata": {},
   "outputs": [],
   "source": [
    "def get_xy(dataframe, y_label, x_labels=None):\n",
    "  dataframe = copy.deepcopy(dataframe)\n",
    "  if x_labels is None:\n",
    "    X = dataframe[[c for c in dataframe.columns if c!=y_label]].values # Take all the columns' values\n",
    "  else: # Labels are passed into the function\n",
    "    if len(x_labels) == 1:\n",
    "      X = dataframe[x_labels[0]].values.reshape(-1, 1) # Reshape to make it 2D, since only one column\n",
    "    else:\n",
    "      X = dataframe[x_labels].values\n",
    "\n",
    "  y = dataframe[y_label].values.reshape(-1, 1) # reshape to be able to stack with the X matrix\n",
    "  data = np.hstack((X,y))\n",
    "\n",
    "  return data, X, y"
   ]
  },
  {
   "cell_type": "code",
   "execution_count": 10,
   "metadata": {},
   "outputs": [],
   "source": [
    "_, X_train, y_train = get_xy(train, \"BatteryTime\", x_labels = [\"ChargeTime\"]) \n",
    "_, X_valid, y_valid = get_xy(valid, \"BatteryTime\", x_labels = [\"ChargeTime\"])\n",
    "_, X_test, y_test = get_xy(test, \"BatteryTime\", x_labels = [\"ChargeTime\"])"
   ]
  },
  {
   "cell_type": "code",
   "execution_count": 11,
   "metadata": {},
   "outputs": [
    {
     "name": "stdout",
     "output_type": "stream",
     "text": [
      "[[ 0.14]\n",
      " [ 3.87]\n",
      " [ 5.77]\n",
      " [ 4.15]\n",
      " [ 0.  ]\n",
      " [ 3.97]\n",
      " [ 6.05]\n",
      " [ 6.39]\n",
      " [ 6.13]\n",
      " [ 2.33]\n",
      " [ 8.38]\n",
      " [ 4.93]\n",
      " [ 4.35]\n",
      " [ 8.06]\n",
      " [ 5.33]\n",
      " [ 4.64]\n",
      " [ 7.53]\n",
      " [ 8.49]\n",
      " [ 4.38]\n",
      " [ 4.37]\n",
      " [ 9.33]\n",
      " [ 1.58]\n",
      " [ 1.26]\n",
      " [ 0.02]\n",
      " [ 5.31]\n",
      " [ 5.58]\n",
      " [ 2.  ]\n",
      " [ 7.79]\n",
      " [ 2.58]\n",
      " [ 5.55]\n",
      " [ 6.48]\n",
      " [ 3.45]\n",
      " [ 1.98]\n",
      " [ 1.78]\n",
      " [ 3.47]\n",
      " [ 9.13]\n",
      " [ 7.02]\n",
      " [ 1.99]\n",
      " [ 3.97]\n",
      " [ 1.9 ]\n",
      " [ 1.76]\n",
      " [ 8.43]\n",
      " [ 2.24]\n",
      " [ 1.27]\n",
      " [ 1.58]\n",
      " [ 3.53]\n",
      " [ 4.11]\n",
      " [ 5.26]\n",
      " [ 1.89]\n",
      " [ 6.65]\n",
      " [ 2.15]\n",
      " [ 9.2 ]\n",
      " [ 1.75]\n",
      " [ 8.08]\n",
      " [ 9.15]\n",
      " [ 3.65]\n",
      " [ 9.69]\n",
      " [ 8.05]\n",
      " [ 1.83]\n",
      " [ 2.16]\n",
      " [ 4.61]\n",
      " [ 5.68]\n",
      " [ 2.72]\n",
      " [ 0.8 ]\n",
      " [ 8.21]\n",
      " [ 7.8 ]\n",
      " [ 1.85]\n",
      " [ 3.42]\n",
      " [ 4.87]\n",
      " [ 8.79]\n",
      " [ 6.37]\n",
      " [ 7.37]\n",
      " [ 5.39]\n",
      " [ 1.1 ]\n",
      " [ 1.11]\n",
      " [ 1.98]\n",
      " [ 4.71]\n",
      " [ 2.04]\n",
      " [ 4.39]\n",
      " [ 9.71]\n",
      " [ 1.83]\n",
      " [ 1.66]\n",
      " [ 7.82]\n",
      " [ 6.71]\n",
      " [ 5.75]\n",
      " [ 3.77]\n",
      " [ 5.5 ]\n",
      " [ 5.47]\n",
      " [ 1.14]\n",
      " [11.72]\n",
      " [ 7.14]\n",
      " [ 2.06]\n",
      " [ 5.96]\n",
      " [ 0.13]\n",
      " [ 1.44]\n",
      " [ 5.94]\n",
      " [ 3.99]]\n"
     ]
    }
   ],
   "source": [
    "print(X_train)"
   ]
  },
  {
   "cell_type": "code",
   "execution_count": 12,
   "metadata": {},
   "outputs": [],
   "source": [
    "normalizer = tf.keras.layers.Normalization(input_shape=(1,), axis=None)\n",
    "normalizer.adapt(X_train.reshape(-1,1))\n",
    "\n",
    "nn_model = tf.keras.Sequential([ # Use a real neural network\n",
    "    normalizer, # Normalized input data \n",
    "    tf.keras.layers.Dense(32, activation='tanh'),\n",
    "    tf.keras.layers.Dense(32, activation='relu'),\n",
    "    tf.keras.layers.Dense(1, activation='relu') # Output layer ->\n",
    "])\n",
    "nn_model.compile(optimizer=tf.keras.optimizers.Adam(learning_rate=0.001), loss='mean_squared_error')"
   ]
  },
  {
   "cell_type": "code",
   "execution_count": 13,
   "metadata": {},
   "outputs": [],
   "source": [
    "history = nn_model.fit(\n",
    "    X_train, y_train,\n",
    "    validation_data=(X_valid, y_valid),\n",
    "    verbose=0, epochs=500\n",
    ")"
   ]
  },
  {
   "cell_type": "code",
   "execution_count": 14,
   "metadata": {},
   "outputs": [
    {
     "name": "stdout",
     "output_type": "stream",
     "text": [
      "4/4 [==============================] - 0s 2ms/step\n"
     ]
    },
    {
     "data": {
      "image/png": "[encoded data removed]",
      "text/plain": [
       "<Figure size 640x480 with 1 Axes>"
      ]
     },
     "metadata": {},
     "output_type": "display_data"
    }
   ],
   "source": [
    "plt.scatter(X_train, y_train, label='Data', color='blue')\n",
    "x = tf.linspace(0, 12, 100)\n",
    "plt.plot(x, nn_model.predict(np.array(x).reshape(-1,1)), label='Fit', color='red', linewidth=3) # Change model to NN model, otherwise keep the same\n",
    "plt.legend()\n",
    "plt.title(\"Predicted ChargeTime\")\n",
    "plt.ylabel(\"ChargeTime\")\n",
    "plt.xlabel(\"BatteryTime\")\n",
    "plt.show()"
   ]
  },
  {
   "cell_type": "code",
   "execution_count": null,
   "metadata": {},
   "outputs": [],
   "source": [
    "def plot_loss(history):\n",
    "\n",
    "  plt.plot(history.history['loss'], label='loss')\n",
    "  plt.plot(history.history['val_loss'], label='val_loss')\n",
    "  plt.xlabel('Epoch') # An epoch is a training cycle\n",
    "  plt.ylabel('MSE')\n",
    "  plt.legend()\n",
    "  plt.grid(True)\n",
    "  plt.show()"
   ]
  },
  {
   "cell_type": "code",
   "execution_count": null,
   "metadata": {
    "scrolled": true
   },
   "outputs": [],
   "source": [
    "plot_loss(history)"
   ]
  },
  {
   "cell_type": "code",
   "execution_count": null,
   "metadata": {},
   "outputs": [],
   "source": [
    "x_input = pd.DataFrame(np.array([0.2]))\n",
    "y_pred = nn_model.predict(x_input)"
   ]
  },
  {
   "cell_type": "code",
   "execution_count": null,
   "metadata": {},
   "outputs": [],
   "source": [
    "print(y_pred[0][0])"
   ]
  },
  {
   "cell_type": "code",
   "execution_count": 21,
   "metadata": {},
   "outputs": [
    {
     "name": "stdout",
     "output_type": "stream",
     "text": [
      "2.343544\n",
      "4.69\n"
     ]
    }
   ],
   "source": []
  }
 ],
 "metadata": {
  "kernelspec": {
   "display_name": "Python 3 (ipykernel)",
   "language": "python",
   "name": "python3"
  },
  "language_info": {
   "codemirror_mode": {
    "name": "ipython",
    "version": 3
   },
   "file_extension": ".py",
   "mimetype": "text/x-python",
   "name": "python",
   "nbconvert_exporter": "python",
   "pygments_lexer": "ipython3",
   "version": "3.11.4"
  }
 },
 "nbformat": 4,
 "nbformat_minor": 2
}
